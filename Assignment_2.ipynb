{
  "nbformat": 4,
  "nbformat_minor": 0,
  "metadata": {
    "kernelspec": {
      "display_name": "Python 3",
      "language": "python",
      "name": "python3"
    },
    "language_info": {
      "codemirror_mode": {
        "name": "ipython",
        "version": 3
      },
      "file_extension": ".py",
      "mimetype": "text/x-python",
      "name": "python",
      "nbconvert_exporter": "python",
      "pygments_lexer": "ipython3",
      "version": "3.7.6"
    },
    "colab": {
      "name": "Assignment 2.ipynb",
      "provenance": [],
      "collapsed_sections": [],
      "include_colab_link": true
    }
  },
  "cells": [
    {
      "cell_type": "markdown",
      "metadata": {
        "id": "view-in-github",
        "colab_type": "text"
      },
      "source": [
        "<a href=\"https://colab.research.google.com/github/himviz/Python_Assignments/blob/master/Assignment_2.ipynb\" target=\"_parent\"><img src=\"https://colab.research.google.com/assets/colab-badge.svg\" alt=\"Open In Colab\"/></a>"
      ]
    },
    {
      "cell_type": "markdown",
      "metadata": {
        "id": "JQfIpHkF2TLj",
        "colab_type": "text"
      },
      "source": [
        " **Assignment 2**\n"
      ]
    },
    {
      "cell_type": "markdown",
      "metadata": {
        "id": "NCQWTPxw2Qqs",
        "colab_type": "text"
      },
      "source": [
        " 1. Create the below pattern using nested for loop in Python.\n",
        "\n",
        "    \n",
        "    *\n",
        "    * *\n",
        "    * * *\n",
        "    * * * *\n",
        "    * * * * * \n",
        "    * * * *\n",
        "    * * *\n",
        "    * *\n",
        "    * "
      ]
    },
    {
      "cell_type": "code",
      "metadata": {
        "id": "KCCVMe8U2Qqw",
        "colab_type": "code",
        "colab": {}
      },
      "source": [
        "a=1\n",
        "b=4\n",
        "for i in range(10):\n",
        "    if(i<5):\n",
        "        print(\"*\"*a)\n",
        "        a=a+1\n",
        "    else:\n",
        "        print(\"*\"*b)\n",
        "        b=b-1\n",
        "    "
      ],
      "execution_count": 0,
      "outputs": []
    },
    {
      "cell_type": "markdown",
      "metadata": {
        "id": "S2Ou8EQe2Qq5",
        "colab_type": "text"
      },
      "source": [
        "2. Write a Python program to reverse a word after accepting the input from the user.\n",
        "Input word: ineuron\n",
        "Output: norueni"
      ]
    },
    {
      "cell_type": "code",
      "metadata": {
        "id": "wKhqujLm2Qq6",
        "colab_type": "code",
        "colab": {}
      },
      "source": [
        "c = input(\"enter the word     \")\n",
        "for i in c:\n",
        "    print( c[::-1])\n",
        "    break\n"
      ],
      "execution_count": 0,
      "outputs": []
    },
    {
      "cell_type": "code",
      "metadata": {
        "id": "ZFMbW7-44S4A",
        "colab_type": "code",
        "colab": {}
      },
      "source": [
        ""
      ],
      "execution_count": 0,
      "outputs": []
    }
  ]
}