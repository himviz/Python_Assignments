{
  "nbformat": 4,
  "nbformat_minor": 0,
  "metadata": {
    "kernelspec": {
      "display_name": "Python 3",
      "language": "python",
      "name": "python3"
    },
    "language_info": {
      "codemirror_mode": {
        "name": "ipython",
        "version": 3
      },
      "file_extension": ".py",
      "mimetype": "text/x-python",
      "name": "python",
      "nbconvert_exporter": "python",
      "pygments_lexer": "ipython3",
      "version": "3.7.6"
    },
    "varInspector": {
      "cols": {
        "lenName": 16,
        "lenType": 16,
        "lenVar": 40
      },
      "kernels_config": {
        "python": {
          "delete_cmd_postfix": "",
          "delete_cmd_prefix": "del ",
          "library": "var_list.py",
          "varRefreshCmd": "print(var_dic_list())"
        },
        "r": {
          "delete_cmd_postfix": ") ",
          "delete_cmd_prefix": "rm(",
          "library": "var_list.r",
          "varRefreshCmd": "cat(var_dic_list()) "
        }
      },
      "types_to_exclude": [
        "module",
        "function",
        "builtin_function_or_method",
        "instance",
        "_Feature"
      ],
      "window_display": false
    },
    "colab": {
      "name": "Numpy Assignment.ipynb",
      "provenance": [],
      "include_colab_link": true
    }
  },
  "cells": [
    {
      "cell_type": "markdown",
      "metadata": {
        "id": "view-in-github",
        "colab_type": "text"
      },
      "source": [
        "<a href=\"https://colab.research.google.com/github/himviz/Python_Assignments/blob/master/Numpy_Assignment.ipynb\" target=\"_parent\"><img src=\"https://colab.research.google.com/assets/colab-badge.svg\" alt=\"Open In Colab\"/></a>"
      ]
    },
    {
      "cell_type": "markdown",
      "metadata": {
        "id": "4feq2cgkphr8",
        "colab_type": "text"
      },
      "source": [
        "# Numpy Assignment"
      ]
    },
    {
      "cell_type": "markdown",
      "metadata": {
        "id": "xi2w5nOOphsA",
        "colab_type": "text"
      },
      "source": [
        "Write a function so that the columns of the output matrix are powers of the input\n",
        "vector.\n",
        "\n",
        "The order of the powers is determined by the increasing boolean argument. Specifically, when\n",
        "increasing is False, the i-th output column is the input vector raised element-wise to the power\n",
        "of N - i - 1.\n",
        "\n",
        "HINT: Such a matrix with a geometric progression in each row is named for Alexandre-\n",
        "Theophile Vandermonde."
      ]
    },
    {
      "cell_type": "code",
      "metadata": {
        "ExecuteTime": {
          "end_time": "2020-07-22T09:25:04.196265Z",
          "start_time": "2020-07-22T09:25:04.185247Z"
        },
        "id": "C8AmQZYxphsC",
        "colab_type": "code",
        "colab": {}
      },
      "source": [
        "#code (we have given input values for vector and value of N can be altered)\n",
        "import numpy as np\n",
        "def van():\n",
        "    f = []\n",
        "    l = [1,2,4]\n",
        "    N = len(l)\n",
        "    for i in range(N):\n",
        "        f.append((np.power(l,N-1-i)))\n",
        "    a = np.array(f).transpose()\n",
        "    print(a)\n",
        "\n",
        "#implementing code \n",
        "van()"
      ],
      "execution_count": null,
      "outputs": []
    },
    {
      "cell_type": "markdown",
      "metadata": {
        "id": "KdBLhn-6phsS",
        "colab_type": "text"
      },
      "source": [
        "Problem Statement 2:\n",
        "Given a sequence of n values x1, x2, ..., xn and a window size k>0, the k-th moving average of\n",
        "the given sequence is defined as follows:\n",
        "The moving average sequence has n-k+1 elements as shown below.\n",
        "The moving averages with k=4 of a ten-value sequence (n=10) is shown below\n",
        "i 1 2 3 4 5 6 7 8 9 10\n",
        "===== == == == == == == == == == ==\n",
        "Input 10 20 30 40 50 60 70 80 90 100\n",
        "y1 25 = (10+20+30+40)/4\n",
        "y2 35 = (20+30+40+50)/4\n",
        "y3 45 = (30+40+50+60)/4\n",
        "y4 55 = (40+50+60+70)/4\n",
        "y5 65 = (50+60+70+80)/4\n",
        "y6 75 = (60+70+80+90)/4\n",
        "y7 85 = (70+80+90+100)/4\n",
        "Thus, the moving average sequence has n-k+1=10-4+1=7 values.\n",
        "\n",
        "Question: Write a function to find moving average in an array over a window:\n",
        "Test it over [3, 5, 7, 2, 8, 10, 11, 65, 72, 81, 99, 100, 150] and window of 3."
      ]
    },
    {
      "cell_type": "code",
      "metadata": {
        "ExecuteTime": {
          "end_time": "2020-07-22T10:05:25.427564Z",
          "start_time": "2020-07-22T10:05:25.416271Z"
        },
        "id": "mdVxM3SqphsU",
        "colab_type": "code",
        "colab": {}
      },
      "source": [
        "a = [3, 5, 7, 2, 8, 10, 11, 65, 72, 81, 99, 100, 150]\n",
        "b = len(a)\n",
        "k=3\n",
        "c= 0\n",
        "for i in range(((b-k)+1)):\n",
        "    o = (a[c]+a[c+1]+a[c+2])/3\n",
        "    c=c+1\n",
        "    print(o)"
      ],
      "execution_count": null,
      "outputs": []
    },
    {
      "cell_type": "code",
      "metadata": {
        "id": "-wj-d8SNphsd",
        "colab_type": "code",
        "colab": {}
      },
      "source": [
        ""
      ],
      "execution_count": null,
      "outputs": []
    }
  ]
}