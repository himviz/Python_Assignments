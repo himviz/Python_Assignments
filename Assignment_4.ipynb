{
  "nbformat": 4,
  "nbformat_minor": 0,
  "metadata": {
    "kernelspec": {
      "display_name": "Python 3",
      "language": "python",
      "name": "python3"
    },
    "language_info": {
      "codemirror_mode": {
        "name": "ipython",
        "version": 3
      },
      "file_extension": ".py",
      "mimetype": "text/x-python",
      "name": "python",
      "nbconvert_exporter": "python",
      "pygments_lexer": "ipython3",
      "version": "3.7.6"
    },
    "varInspector": {
      "cols": {
        "lenName": 16,
        "lenType": 16,
        "lenVar": 40
      },
      "kernels_config": {
        "python": {
          "delete_cmd_postfix": "",
          "delete_cmd_prefix": "del ",
          "library": "var_list.py",
          "varRefreshCmd": "print(var_dic_list())"
        },
        "r": {
          "delete_cmd_postfix": ") ",
          "delete_cmd_prefix": "rm(",
          "library": "var_list.r",
          "varRefreshCmd": "cat(var_dic_list()) "
        }
      },
      "types_to_exclude": [
        "module",
        "function",
        "builtin_function_or_method",
        "instance",
        "_Feature"
      ],
      "window_display": false
    },
    "colab": {
      "name": "Assignment 4.ipynb",
      "provenance": [],
      "include_colab_link": true
    }
  },
  "cells": [
    {
      "cell_type": "markdown",
      "metadata": {
        "id": "view-in-github",
        "colab_type": "text"
      },
      "source": [
        "<a href=\"https://colab.research.google.com/github/himviz/Python_Assignments/blob/master/Assignment_4.ipynb\" target=\"_parent\"><img src=\"https://colab.research.google.com/assets/colab-badge.svg\" alt=\"Open In Colab\"/></a>"
      ]
    },
    {
      "cell_type": "markdown",
      "metadata": {
        "id": "KdXZwhnSuIkh",
        "colab_type": "text"
      },
      "source": [
        "## Assignment 4"
      ]
    },
    {
      "cell_type": "markdown",
      "metadata": {
        "id": "2xSxC1SiuIkj",
        "colab_type": "text"
      },
      "source": [
        "1.1 Write a Python Program(with class concepts) to find the area of the triangle using the below formula.\n",
        "area = (s*(s-a)*(s-b)*(s-c)) ** 0.5"
      ]
    },
    {
      "cell_type": "code",
      "metadata": {
        "ExecuteTime": {
          "end_time": "2020-07-14T20:45:46.285831Z",
          "start_time": "2020-07-14T20:45:46.275741Z"
        },
        "id": "G2XPZNjQuIkl",
        "colab_type": "code",
        "colab": {}
      },
      "source": [
        "#parent class\n",
        "class Ptriangle():\n",
        "    def __init__ (self,a,b,c):\n",
        "        self.a = a\n",
        "        self.b = b\n",
        "        self.c = c\n",
        "        \n",
        "#now, child class is taking sides of triangle from parent class \n",
        "#and we are calculating 's'(half of sum of parameter of triangle) and finding area of triangle.\n",
        "class Striangle(Ptriangle):\n",
        "    def __init__(self,*args):\n",
        "        super(Striangle,self).__init__(*args)\n",
        "    def area(self):\n",
        "        s=(self.a + self.b + self.c)/2\n",
        "        k = (s*(s-self.a)*(s-self.b)*(s-self.c)) ** 0.5\n",
        "        print(k)"
      ],
      "execution_count": null,
      "outputs": []
    },
    {
      "cell_type": "code",
      "metadata": {
        "ExecuteTime": {
          "end_time": "2020-07-14T20:45:46.689741Z",
          "start_time": "2020-07-14T20:45:46.681565Z"
        },
        "id": "dFnfcj7euIkw",
        "colab_type": "code",
        "colab": {}
      },
      "source": [
        "#using above code        \n",
        "h = Striangle(15,17,16)\n",
        "h.area()"
      ],
      "execution_count": null,
      "outputs": []
    },
    {
      "cell_type": "markdown",
      "metadata": {
        "id": "8aqw9XxYuIk5",
        "colab_type": "text"
      },
      "source": [
        "1.2 Write a function filter_long_words() that takes a list of words and an integer n \n",
        "and returns the list of words that are longer than n.\n"
      ]
    },
    {
      "cell_type": "code",
      "metadata": {
        "ExecuteTime": {
          "end_time": "2020-07-14T21:40:07.865308Z",
          "start_time": "2020-07-14T21:40:07.856708Z"
        },
        "id": "vKWbEwRVuIk8",
        "colab_type": "code",
        "colab": {}
      },
      "source": [
        "#code\n",
        "def filter_long_words():\n",
        "    k = input(\"enter words seperated by code\")\n",
        "    h = k.split(',')\n",
        "    p = int(input(\"enter the value\"))\n",
        "    m = []\n",
        "    for i in h:\n",
        "        if len(i) > p:\n",
        "            m.append(i)\n",
        "    print(m)"
      ],
      "execution_count": null,
      "outputs": []
    },
    {
      "cell_type": "code",
      "metadata": {
        "ExecuteTime": {
          "end_time": "2020-07-14T21:40:18.848562Z",
          "start_time": "2020-07-14T21:40:08.898938Z"
        },
        "id": "dMfq09N4uIlD",
        "colab_type": "code",
        "colab": {}
      },
      "source": [
        "#implementation of above code\n",
        "filter_long_words()"
      ],
      "execution_count": null,
      "outputs": []
    },
    {
      "cell_type": "markdown",
      "metadata": {
        "id": "x4EFAMwRuIlL",
        "colab_type": "text"
      },
      "source": [
        "2.1 Write a Python program using function concept that maps list of words into a list of integers representing the lengths of the corresponding words.\n",
        "Hint: If a list [ ab,cde,erty] is passed on to the python function output should come as [2,3,4] Here 2,3 and 4 are the lengths of the words in the list."
      ]
    },
    {
      "cell_type": "code",
      "metadata": {
        "ExecuteTime": {
          "end_time": "2020-07-14T21:38:57.249902Z",
          "start_time": "2020-07-14T21:38:57.241737Z"
        },
        "id": "yQjLVhH0uIlM",
        "colab_type": "code",
        "colab": {}
      },
      "source": [
        "def moon():\n",
        "    h = input(\"enter words seperated by comma\")\n",
        "    f = h.split(',')\n",
        "    p = []\n",
        "    for i in f:\n",
        "        p.append(len(i))\n",
        "    print(p)"
      ],
      "execution_count": null,
      "outputs": []
    },
    {
      "cell_type": "code",
      "metadata": {
        "ExecuteTime": {
          "end_time": "2020-07-14T21:39:04.779039Z",
          "start_time": "2020-07-14T21:38:57.936492Z"
        },
        "id": "ca3zMfhNuIlS",
        "colab_type": "code",
        "colab": {}
      },
      "source": [
        "#using above code\n",
        "moon()"
      ],
      "execution_count": null,
      "outputs": []
    },
    {
      "cell_type": "markdown",
      "metadata": {
        "id": "6zLbf5VLuIlb",
        "colab_type": "text"
      },
      "source": [
        "2.2 Write a Python function which takes a character (i.e. a string of length 1) and returns True if it is a vowel, False otherwise."
      ]
    },
    {
      "cell_type": "code",
      "metadata": {
        "ExecuteTime": {
          "end_time": "2020-07-14T21:52:03.934724Z",
          "start_time": "2020-07-14T21:52:03.925632Z"
        },
        "id": "xeF3IoDvuIld",
        "colab_type": "code",
        "colab": {}
      },
      "source": [
        "def characterr():\n",
        "    h = input(\"enter a single character\")\n",
        "    if len(h) <2 :\n",
        "        if h == ('a' or 'i' or 'o' or 'e' or 'u'):\n",
        "            return True\n",
        "        else:\n",
        "            return False"
      ],
      "execution_count": null,
      "outputs": []
    },
    {
      "cell_type": "code",
      "metadata": {
        "ExecuteTime": {
          "end_time": "2020-07-14T21:52:16.709908Z",
          "start_time": "2020-07-14T21:52:15.505321Z"
        },
        "id": "uDQK37S7uIlk",
        "colab_type": "code",
        "colab": {}
      },
      "source": [
        "#using code\n",
        "characterr()"
      ],
      "execution_count": null,
      "outputs": []
    }
  ]
}