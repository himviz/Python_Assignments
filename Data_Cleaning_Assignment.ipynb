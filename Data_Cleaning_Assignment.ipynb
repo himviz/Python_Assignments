{
  "nbformat": 4,
  "nbformat_minor": 0,
  "metadata": {
    "kernelspec": {
      "display_name": "Python 3",
      "language": "python",
      "name": "python3"
    },
    "language_info": {
      "codemirror_mode": {
        "name": "ipython",
        "version": 3
      },
      "file_extension": ".py",
      "mimetype": "text/x-python",
      "name": "python",
      "nbconvert_exporter": "python",
      "pygments_lexer": "ipython3",
      "version": "3.7.6"
    },
    "varInspector": {
      "cols": {
        "lenName": 16,
        "lenType": 16,
        "lenVar": 40
      },
      "kernels_config": {
        "python": {
          "delete_cmd_postfix": "",
          "delete_cmd_prefix": "del ",
          "library": "var_list.py",
          "varRefreshCmd": "print(var_dic_list())"
        },
        "r": {
          "delete_cmd_postfix": ") ",
          "delete_cmd_prefix": "rm(",
          "library": "var_list.r",
          "varRefreshCmd": "cat(var_dic_list()) "
        }
      },
      "types_to_exclude": [
        "module",
        "function",
        "builtin_function_or_method",
        "instance",
        "_Feature"
      ],
      "window_display": false
    },
    "colab": {
      "name": "Data Cleaning Assignment.ipynb",
      "provenance": [],
      "include_colab_link": true
    }
  },
  "cells": [
    {
      "cell_type": "markdown",
      "metadata": {
        "id": "view-in-github",
        "colab_type": "text"
      },
      "source": [
        "<a href=\"https://colab.research.google.com/github/himviz/Python_Assignments/blob/master/Data_Cleaning_Assignment.ipynb\" target=\"_parent\"><img src=\"https://colab.research.google.com/assets/colab-badge.svg\" alt=\"Open In Colab\"/></a>"
      ]
    },
    {
      "cell_type": "markdown",
      "metadata": {
        "id": "zwm7WaCIiqtE",
        "colab_type": "text"
      },
      "source": [
        "# Assignment - Data Cleaning\n"
      ]
    },
    {
      "cell_type": "markdown",
      "metadata": {
        "id": "7GGJfXaqiqtH",
        "colab_type": "text"
      },
      "source": [
        "2.Problem Statement\n",
        "\n",
        "It happens all the time: someone gives you data containing malformed strings,\n",
        "Python, lists and missing data. How do you tidy it up so you can get on with the\n",
        "analysis?\n",
        "Take this monstrosity as the DataFrame to use in the following puzzles:\n",
        "df = pd.DataFrame({'From_To': ['LoNDon_paris', 'MAdrid_miLAN',\n",
        "'londON_StockhOlm',\n",
        "'Budapest_PaRis', 'Brussels_londOn'],\n",
        "'FlightNumber': [10045, np.nan, 10065, np.nan, 10085],\n",
        "'RecentDelays': [[23, 47], [], [24, 43, 87], [13], [67, 32]],\n",
        "'Airline': ['KLM(!)', '<Air France> (12)', '(British Airways. )',\n",
        "'12. Air France', '\"Swiss Air\"']})"
      ]
    },
    {
      "cell_type": "markdown",
      "metadata": {
        "id": "jYFh7bmHiqtK",
        "colab_type": "text"
      },
      "source": [
        "1. Some values in the the FlightNumber column are missing. These numbers are\n",
        "meant to increase by 10 with each row so 10055 and 10075 need to be put in\n",
        "place. Fill in these missing numbers and make the column an integer column\n",
        "(instead of a float column)."
      ]
    },
    {
      "cell_type": "code",
      "metadata": {
        "ExecuteTime": {
          "end_time": "2020-07-19T20:28:13.522824Z",
          "start_time": "2020-07-19T20:28:13.244853Z"
        },
        "id": "w9ZyXbxMiqtN",
        "colab_type": "code",
        "colab": {}
      },
      "source": [
        "import pandas as pd\n",
        "import numpy as np\n",
        "\n",
        "df = pd.DataFrame({'From_To': ['LoNDon_paris', 'MAdrid_miLAN',\n",
        "'londON_StockhOlm',\n",
        "'Budapest_PaRis', 'Brussels_londOn'],\n",
        "'FlightNumber': [10045, np.nan, 10065, np.nan, 10085],\n",
        "'RecentDelays': [[23, 47], [], [24, 43, 87], [13], [67, 32]],\n",
        "'Airline': ['KLM(!)', '<Air France> (12)', '(British Airways. )',\n",
        "'12. Air France', '\"Swiss Air\"']})\n",
        "df"
      ],
      "execution_count": null,
      "outputs": []
    },
    {
      "cell_type": "code",
      "metadata": {
        "ExecuteTime": {
          "end_time": "2020-07-19T20:28:13.913778Z",
          "start_time": "2020-07-19T20:28:13.882643Z"
        },
        "id": "AFemlkNliqtd",
        "colab_type": "code",
        "colab": {}
      },
      "source": [
        "df.loc[[1,3],\"FlightNumber\"] = [10055,10075]\n",
        "\n",
        "df.FlightNumber = df.FlightNumber.astype(int)\n",
        "df"
      ],
      "execution_count": null,
      "outputs": []
    },
    {
      "cell_type": "markdown",
      "metadata": {
        "id": "uMKBThBOiqtj",
        "colab_type": "text"
      },
      "source": [
        "2. The From_To column would be better as two separate columns! Split each\n",
        "string on the underscore delimiter _ to give a new temporary DataFrame with\n",
        "the correct values. Assign the correct column names to this temporary\n",
        "DataFrame."
      ]
    },
    {
      "cell_type": "code",
      "metadata": {
        "ExecuteTime": {
          "end_time": "2020-07-19T20:28:15.773120Z",
          "start_time": "2020-07-19T20:28:15.754879Z"
        },
        "id": "iG_7tb1wiqtk",
        "colab_type": "code",
        "colab": {}
      },
      "source": [
        "a = df.From_To.astype(str)\n",
        "temp_df = pd.DataFrame([i.split(\"_\") for i in a] , columns=[\"from\",\"to\"])\n",
        "temp_df"
      ],
      "execution_count": null,
      "outputs": []
    },
    {
      "cell_type": "markdown",
      "metadata": {
        "ExecuteTime": {
          "end_time": "2020-07-19T19:18:04.183231Z",
          "start_time": "2020-07-19T19:18:04.175200Z"
        },
        "id": "p0qcfqcCiqtr",
        "colab_type": "text"
      },
      "source": [
        "3. Notice how the capitalisation of the city names is all mixed up in this\n",
        "temporary DataFrame. Standardise the strings so that only the first letter is\n",
        "uppercase (e.g. \"londON\" should become \"London\".)"
      ]
    },
    {
      "cell_type": "code",
      "metadata": {
        "ExecuteTime": {
          "end_time": "2020-07-19T20:28:18.141899Z",
          "start_time": "2020-07-19T20:28:18.120258Z"
        },
        "id": "mzlK4BT1iqts",
        "colab_type": "code",
        "colab": {}
      },
      "source": [
        "temp_df[['from','to']].astype(str)\n",
        "temp_df['from'] = [i.capitalize() for i in temp_df['from']]\n",
        "temp_df['to'] = [i.capitalize() for i in temp_df['to']]\n",
        "temp_df"
      ],
      "execution_count": null,
      "outputs": []
    },
    {
      "cell_type": "markdown",
      "metadata": {
        "ExecuteTime": {
          "end_time": "2020-07-19T19:39:01.846446Z",
          "start_time": "2020-07-19T19:39:01.837354Z"
        },
        "id": "iLikWcyWiqt0",
        "colab_type": "text"
      },
      "source": [
        "4. Delete the From_To column from df and attach the temporary DataFrame\n",
        "from the previous questions."
      ]
    },
    {
      "cell_type": "code",
      "metadata": {
        "ExecuteTime": {
          "end_time": "2020-07-19T20:28:26.466686Z",
          "start_time": "2020-07-19T20:28:26.433242Z"
        },
        "id": "4iVBcn-miqt1",
        "colab_type": "code",
        "colab": {}
      },
      "source": [
        "df.drop(\"From_To\" , axis = 1 , inplace = True)\n",
        "df[[\"From\" , \"To\"]] = temp_df[[\"from\",\"to\"]]\n",
        "df"
      ],
      "execution_count": null,
      "outputs": []
    },
    {
      "cell_type": "markdown",
      "metadata": {
        "id": "56XOvPpLiqt-",
        "colab_type": "text"
      },
      "source": [
        "5. In the Recent Delays column, the values have been entered into the\n",
        "DataFrame as a list. We would like each first value in its own column, each second value in its own column, and so on. If there isn't an Nth value, the value\n",
        "should be NaN.\"\n",
        "Expand the Series of lists into a DataFrame named delays, rename the columns\n",
        "delay_1, delay_2, etc. and replace the unwanted RecentDelays column in df\n",
        "with delays."
      ]
    },
    {
      "cell_type": "code",
      "metadata": {
        "ExecuteTime": {
          "end_time": "2020-07-19T20:30:24.552864Z",
          "start_time": "2020-07-19T20:30:24.529995Z"
        },
        "id": "Gk50ORKwiqt_",
        "colab_type": "code",
        "colab": {}
      },
      "source": [
        "h = pd.DataFrame(df[\"RecentDelays\"].tolist(), columns=[\"delay_1\",\"delay_2\",\"delay_3\"])\n",
        "df= pd.concat([df,h] , axis = 1)\n",
        "df.drop(\"RecentDelays\" , axis = 1 , inplace = True)\n",
        "df = pd.DataFrame(df , columns = ['FlightNumber', 'delay_1', 'delay_2','delay_3', 'Airline', 'From', 'To'])\n",
        "df"
      ],
      "execution_count": 34,
      "outputs": []
    }
  ]
}