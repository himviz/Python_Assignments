{
  "nbformat": 4,
  "nbformat_minor": 0,
  "metadata": {
    "kernelspec": {
      "display_name": "Python 3",
      "language": "python",
      "name": "python3"
    },
    "language_info": {
      "codemirror_mode": {
        "name": "ipython",
        "version": 3
      },
      "file_extension": ".py",
      "mimetype": "text/x-python",
      "name": "python",
      "nbconvert_exporter": "python",
      "pygments_lexer": "ipython3",
      "version": "3.7.6"
    },
    "colab": {
      "name": "Python Assignment 1 (1).ipynb",
      "provenance": [],
      "collapsed_sections": []
    }
  },
  "cells": [
    {
      "cell_type": "markdown",
      "metadata": {
        "id": "1rd1bwebrd7Q",
        "colab_type": "text"
      },
      "source": [
        "# First Assignment of python"
      ]
    },
    {
      "cell_type": "markdown",
      "metadata": {
        "id": "pmPhOQARrd7U",
        "colab_type": "text"
      },
      "source": [
        "1)  Write a program which will find all such numbers which are divisible by 7 but are not a multiple of 5, between 2000 and 3200 (both included). The numbers obtained should be printed in a comma-separated sequence on a single line. "
      ]
    },
    {
      "cell_type": "code",
      "metadata": {
        "id": "YlL7AFj-rd7X",
        "colab_type": "code",
        "colab": {}
      },
      "source": [
        "h = list(range(2000,3200))\n",
        "for i in h:\n",
        "    if(i%7==0 and i%5!= 0):\n",
        "        print(i , end = ',')"
      ],
      "execution_count": 0,
      "outputs": []
    },
    {
      "cell_type": "markdown",
      "metadata": {
        "id": "c63hV_Nvrd7o",
        "colab_type": "text"
      },
      "source": [
        "2) Write a Python program to accept the user's first and last name and then getting them printed in the the reverse order with a space between first name and last name. "
      ]
    },
    {
      "cell_type": "code",
      "metadata": {
        "id": "N8L9oEjRrd7q",
        "colab_type": "code",
        "colab": {}
      },
      "source": [
        ""
      ],
      "execution_count": 0,
      "outputs": []
    },
    {
      "cell_type": "code",
      "metadata": {
        "id": "EMrTpeDPrd7v",
        "colab_type": "code",
        "colab": {}
      },
      "source": [
        "name = input()\n",
        "for i in name:\n",
        "    if(type(name)==str):\n",
        "        print(name[::-1])\n",
        "        break   "
      ],
      "execution_count": 0,
      "outputs": []
    },
    {
      "cell_type": "markdown",
      "metadata": {
        "id": "aP_WpLbmrd7z",
        "colab_type": "text"
      },
      "source": [
        "3) Write a Python program to find the volume of a sphere with diameter 12 cm. \n",
        "Formula: V=4/3 * π * r^3"
      ]
    },
    {
      "cell_type": "code",
      "metadata": {
        "id": "5rABI0BZrd70",
        "colab_type": "code",
        "colab": {}
      },
      "source": [
        "d=12\n",
        "r = d/2\n",
        "π = 3.14\n",
        "\n",
        "V = 4/3 * π * (r**3)\n",
        "print(V)\n",
        "        "
      ],
      "execution_count": 0,
      "outputs": []
    }
  ]
}