{
  "nbformat": 4,
  "nbformat_minor": 0,
  "metadata": {
    "kernelspec": {
      "display_name": "Python 3",
      "language": "python",
      "name": "python3"
    },
    "language_info": {
      "codemirror_mode": {
        "name": "ipython",
        "version": 3
      },
      "file_extension": ".py",
      "mimetype": "text/x-python",
      "name": "python",
      "nbconvert_exporter": "python",
      "pygments_lexer": "ipython3",
      "version": "3.7.6"
    },
    "varInspector": {
      "cols": {
        "lenName": 16,
        "lenType": 16,
        "lenVar": 40
      },
      "kernels_config": {
        "python": {
          "delete_cmd_postfix": "",
          "delete_cmd_prefix": "del ",
          "library": "var_list.py",
          "varRefreshCmd": "print(var_dic_list())"
        },
        "r": {
          "delete_cmd_postfix": ") ",
          "delete_cmd_prefix": "rm(",
          "library": "var_list.r",
          "varRefreshCmd": "cat(var_dic_list()) "
        }
      },
      "types_to_exclude": [
        "module",
        "function",
        "builtin_function_or_method",
        "instance",
        "_Feature"
      ],
      "window_display": false
    },
    "colab": {
      "name": "Assignment 3.ipynb",
      "provenance": [],
      "include_colab_link": true
    }
  },
  "cells": [
    {
      "cell_type": "markdown",
      "metadata": {
        "id": "view-in-github",
        "colab_type": "text"
      },
      "source": [
        "<a href=\"https://colab.research.google.com/github/himviz/Python_Assignments/blob/master/Assignment_3.ipynb\" target=\"_parent\"><img src=\"https://colab.research.google.com/assets/colab-badge.svg\" alt=\"Open In Colab\"/></a>"
      ]
    },
    {
      "cell_type": "markdown",
      "metadata": {
        "id": "XjHXF2amklaY",
        "colab_type": "text"
      },
      "source": [
        "1.1 Write a Python Program to implement your own myreduce() function which works exactly like Python's built-in function reduce()"
      ]
    },
    {
      "cell_type": "code",
      "metadata": {
        "ExecuteTime": {
          "end_time": "2020-07-14T10:48:48.160485Z",
          "start_time": "2020-07-14T10:48:43.772332Z"
        },
        "id": "2nYiKRSoklab",
        "colab_type": "code",
        "colab": {}
      },
      "source": [
        "#here we are perfroming summation of all values in a list (given by user),\n",
        "#we can change the operation as per our need.\n",
        "\n",
        "#code\n",
        "def h():\n",
        "    f = input(\"insert integer values seperated by comma\")\n",
        "    l = f.split(',')\n",
        "    a = 0\n",
        "    for i in l:\n",
        "        a = int(i) + a\n",
        "        continue\n",
        "    print(a)\n",
        "    \n",
        "#using function -\n",
        "h()"
      ],
      "execution_count": null,
      "outputs": []
    },
    {
      "cell_type": "markdown",
      "metadata": {
        "id": "F97ULUx9klar",
        "colab_type": "text"
      },
      "source": [
        "1.2 Write a Python program to implement your own myfilter() function which works exactly like Python's built-in function filter()"
      ]
    },
    {
      "cell_type": "code",
      "metadata": {
        "ExecuteTime": {
          "end_time": "2020-07-14T10:55:00.906091Z",
          "start_time": "2020-07-14T10:54:56.215463Z"
        },
        "scrolled": true,
        "id": "FPYsxp6pklau",
        "colab_type": "code",
        "colab": {}
      },
      "source": [
        "#here we are filtering values in a list which are divisible by 2.\n",
        "#code\n",
        "def myfilter():\n",
        "    b=1\n",
        "    f = input(\"enter values seperated by comma\")\n",
        "    l = f.split(',')\n",
        "    for i in l:\n",
        "        if int(i)%2==0:\n",
        "            print(i)\n",
        "#using function\n",
        "myfilter()"
      ],
      "execution_count": null,
      "outputs": []
    },
    {
      "cell_type": "code",
      "metadata": {
        "id": "NpuRk0Qekla2",
        "colab_type": "code",
        "colab": {}
      },
      "source": [
        "2. Implement List comprehensions to produce the following lists. Write List comprehensions to produce the following Lists\n",
        "['x', 'xx', 'xxx', 'xxxx', 'y', 'yy', 'yyy', 'yyyy', 'z', 'zz', 'zzz', 'zzzz']\n",
        "['x', 'y', 'z', 'xx', 'yy', 'zz', 'xxx', 'yyy', 'zzz', 'xxxx', 'yyyy', 'zzzz']\n",
        "[[2], [3], [4], [3], [4], [5], [4], [5], [6]]\n",
        " [[2, 3, 4, 5], [3, 4, 5, 6],[4, 5, 6, 7], [5, 6, 7, 8]]\n",
        "[(1, 1), (2, 1), (3, 1), (1, 2), (2, 2), (3, 2), (1, 3), (2, 3), (3, 3)]"
      ],
      "execution_count": null,
      "outputs": []
    },
    {
      "cell_type": "code",
      "metadata": {
        "id": "9dzuMx5Vklbe",
        "colab_type": "code",
        "colab": {}
      },
      "source": [
        "l = ['x','y','z']\n",
        "\n",
        "print([i*j for i in l for j in range(1,5)])\n",
        "print([i*j for j in range(1,5) for i in l])\n",
        "print([[i+j] for i in range(1,4) for  j in range(1,4)])\n",
        "print([[i+j for i in range(1,5)] for j in range(1,5)])\n",
        "print([(j,i) for  i in range(1,4) for j in range(1,4)])"
      ],
      "execution_count": null,
      "outputs": []
    }
  ]
}